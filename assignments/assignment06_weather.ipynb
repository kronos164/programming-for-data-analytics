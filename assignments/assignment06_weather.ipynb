{
 "cells": [
  {
   "cell_type": "markdown",
   "metadata": {},
   "source": [
    "# Knock Airport Weather\n",
    "\n",
    "***\n",
    "\n",
    "### Import dataframe"
   ]
  },
  {
   "cell_type": "code",
   "execution_count": 26,
   "metadata": {},
   "outputs": [],
   "source": [
    "import pandas as pd"
   ]
  },
  {
   "cell_type": "markdown",
   "metadata": {},
   "source": [
    "***\n",
    "\n",
    "### Import CSV file"
   ]
  },
  {
   "cell_type": "code",
   "execution_count": 27,
   "metadata": {},
   "outputs": [
    {
     "name": "stderr",
     "output_type": "stream",
     "text": [
      "C:\\Users\\caina\\AppData\\Local\\Temp\\ipykernel_197428\\2534783790.py:3: DtypeWarning: Columns (2,10,12,14,15,16,18,19,20) have mixed types. Specify dtype option on import or set low_memory=False.\n",
      "  df = pd.read_csv(directory + file)\n"
     ]
    }
   ],
   "source": [
    "directory = '../assignments/'\n",
    "file = 'hly4935_clean.csv'\n",
    "df = pd.read_csv(directory + file)"
   ]
  },
  {
   "cell_type": "markdown",
   "metadata": {},
   "source": [
    "***\n",
    "\n",
    "### Converting date column to standard format and converting wind speed column to numeric type"
   ]
  },
  {
   "cell_type": "code",
   "execution_count": 28,
   "metadata": {},
   "outputs": [],
   "source": [
    "df['date'] = pd.to_datetime(df['date'], format='%d-%b-%Y %H:%M')\n",
    "df['wdsp'] = pd.to_numeric(df['wdsp'], errors='coerce')"
   ]
  },
  {
   "cell_type": "markdown",
   "metadata": {},
   "source": [
    "***\n",
    "\n",
    "### Plotting the first 300 rows of the data into a table"
   ]
  },
  {
   "cell_type": "code",
   "execution_count": 29,
   "metadata": {},
   "outputs": [
    {
     "data": {
      "text/html": [
       "<div>\n",
       "<style scoped>\n",
       "    .dataframe tbody tr th:only-of-type {\n",
       "        vertical-align: middle;\n",
       "    }\n",
       "\n",
       "    .dataframe tbody tr th {\n",
       "        vertical-align: top;\n",
       "    }\n",
       "\n",
       "    .dataframe thead th {\n",
       "        text-align: right;\n",
       "    }\n",
       "</style>\n",
       "<table border=\"1\" class=\"dataframe\">\n",
       "  <thead>\n",
       "    <tr style=\"text-align: right;\">\n",
       "      <th></th>\n",
       "      <th>date</th>\n",
       "      <th>temp</th>\n",
       "      <th>daily_mean_temp</th>\n",
       "      <th>monthly_mean_temp</th>\n",
       "      <th>wdsp</th>\n",
       "      <th>daily_mean_windspeed</th>\n",
       "      <th>max_daily_windspeed</th>\n",
       "      <th>monthly_mean_max_windspeed</th>\n",
       "    </tr>\n",
       "  </thead>\n",
       "  <tbody>\n",
       "    <tr>\n",
       "      <th>0</th>\n",
       "      <td>1996-04-10 14:00:00</td>\n",
       "      <td>11.5</td>\n",
       "      <td>11.50</td>\n",
       "      <td>11.50</td>\n",
       "      <td>0.0</td>\n",
       "      <td>0.00</td>\n",
       "      <td>0.0</td>\n",
       "      <td>0.00</td>\n",
       "    </tr>\n",
       "    <tr>\n",
       "      <th>1</th>\n",
       "      <td>1996-07-31 08:00:00</td>\n",
       "      <td>11.5</td>\n",
       "      <td>12.65</td>\n",
       "      <td>12.65</td>\n",
       "      <td>0.0</td>\n",
       "      <td>0.00</td>\n",
       "      <td>0.0</td>\n",
       "      <td>0.00</td>\n",
       "    </tr>\n",
       "    <tr>\n",
       "      <th>2</th>\n",
       "      <td>1996-07-31 09:00:00</td>\n",
       "      <td>11.6</td>\n",
       "      <td>12.65</td>\n",
       "      <td>12.65</td>\n",
       "      <td>0.0</td>\n",
       "      <td>0.00</td>\n",
       "      <td>0.0</td>\n",
       "      <td>0.00</td>\n",
       "    </tr>\n",
       "    <tr>\n",
       "      <th>3</th>\n",
       "      <td>1996-07-31 10:00:00</td>\n",
       "      <td>12.9</td>\n",
       "      <td>12.65</td>\n",
       "      <td>12.65</td>\n",
       "      <td>0.0</td>\n",
       "      <td>0.00</td>\n",
       "      <td>0.0</td>\n",
       "      <td>0.00</td>\n",
       "    </tr>\n",
       "    <tr>\n",
       "      <th>4</th>\n",
       "      <td>1996-07-31 11:00:00</td>\n",
       "      <td>14.5</td>\n",
       "      <td>12.65</td>\n",
       "      <td>12.65</td>\n",
       "      <td>0.0</td>\n",
       "      <td>0.00</td>\n",
       "      <td>0.0</td>\n",
       "      <td>0.00</td>\n",
       "    </tr>\n",
       "    <tr>\n",
       "      <th>...</th>\n",
       "      <td>...</td>\n",
       "      <td>...</td>\n",
       "      <td>...</td>\n",
       "      <td>...</td>\n",
       "      <td>...</td>\n",
       "      <td>...</td>\n",
       "      <td>...</td>\n",
       "      <td>...</td>\n",
       "    </tr>\n",
       "    <tr>\n",
       "      <th>295</th>\n",
       "      <td>1996-08-12 14:00:00</td>\n",
       "      <td>15.1</td>\n",
       "      <td>13.22</td>\n",
       "      <td>12.95</td>\n",
       "      <td>4.0</td>\n",
       "      <td>3.92</td>\n",
       "      <td>5.0</td>\n",
       "      <td>12.52</td>\n",
       "    </tr>\n",
       "    <tr>\n",
       "      <th>296</th>\n",
       "      <td>1996-08-12 15:00:00</td>\n",
       "      <td>14.8</td>\n",
       "      <td>13.22</td>\n",
       "      <td>12.95</td>\n",
       "      <td>3.0</td>\n",
       "      <td>3.92</td>\n",
       "      <td>5.0</td>\n",
       "      <td>12.52</td>\n",
       "    </tr>\n",
       "    <tr>\n",
       "      <th>297</th>\n",
       "      <td>1996-08-12 16:00:00</td>\n",
       "      <td>14.9</td>\n",
       "      <td>13.22</td>\n",
       "      <td>12.95</td>\n",
       "      <td>4.0</td>\n",
       "      <td>3.92</td>\n",
       "      <td>5.0</td>\n",
       "      <td>12.52</td>\n",
       "    </tr>\n",
       "    <tr>\n",
       "      <th>298</th>\n",
       "      <td>1996-08-12 17:00:00</td>\n",
       "      <td>14.8</td>\n",
       "      <td>13.22</td>\n",
       "      <td>12.95</td>\n",
       "      <td>4.0</td>\n",
       "      <td>3.92</td>\n",
       "      <td>5.0</td>\n",
       "      <td>12.52</td>\n",
       "    </tr>\n",
       "    <tr>\n",
       "      <th>299</th>\n",
       "      <td>1996-08-12 18:00:00</td>\n",
       "      <td>14.4</td>\n",
       "      <td>13.22</td>\n",
       "      <td>12.95</td>\n",
       "      <td>5.0</td>\n",
       "      <td>3.92</td>\n",
       "      <td>5.0</td>\n",
       "      <td>12.52</td>\n",
       "    </tr>\n",
       "  </tbody>\n",
       "</table>\n",
       "<p>300 rows × 8 columns</p>\n",
       "</div>"
      ],
      "text/plain": [
       "                   date  temp  daily_mean_temp  monthly_mean_temp  wdsp  \\\n",
       "0   1996-04-10 14:00:00  11.5            11.50              11.50   0.0   \n",
       "1   1996-07-31 08:00:00  11.5            12.65              12.65   0.0   \n",
       "2   1996-07-31 09:00:00  11.6            12.65              12.65   0.0   \n",
       "3   1996-07-31 10:00:00  12.9            12.65              12.65   0.0   \n",
       "4   1996-07-31 11:00:00  14.5            12.65              12.65   0.0   \n",
       "..                  ...   ...              ...                ...   ...   \n",
       "295 1996-08-12 14:00:00  15.1            13.22              12.95   4.0   \n",
       "296 1996-08-12 15:00:00  14.8            13.22              12.95   3.0   \n",
       "297 1996-08-12 16:00:00  14.9            13.22              12.95   4.0   \n",
       "298 1996-08-12 17:00:00  14.8            13.22              12.95   4.0   \n",
       "299 1996-08-12 18:00:00  14.4            13.22              12.95   5.0   \n",
       "\n",
       "     daily_mean_windspeed  max_daily_windspeed  monthly_mean_max_windspeed  \n",
       "0                    0.00                  0.0                        0.00  \n",
       "1                    0.00                  0.0                        0.00  \n",
       "2                    0.00                  0.0                        0.00  \n",
       "3                    0.00                  0.0                        0.00  \n",
       "4                    0.00                  0.0                        0.00  \n",
       "..                    ...                  ...                         ...  \n",
       "295                  3.92                  5.0                       12.52  \n",
       "296                  3.92                  5.0                       12.52  \n",
       "297                  3.92                  5.0                       12.52  \n",
       "298                  3.92                  5.0                       12.52  \n",
       "299                  3.92                  5.0                       12.52  \n",
       "\n",
       "[300 rows x 8 columns]"
      ]
     },
     "execution_count": 29,
     "metadata": {},
     "output_type": "execute_result"
    }
   ],
   "source": [
    "daily_mean_temp = df.groupby(df['date'].dt.date)['temp'].mean().round(2)\n",
    "monthly_mean_temp = df.groupby(df['date'].dt.to_period('M'))['temp'].mean().round(2)\n",
    "daily_mean_windspeed = df.groupby(df['date'].dt.date)['wdsp'].mean().round(2)\n",
    "max_daily_windspeed = df.groupby(df['date'].dt.date)['wdsp'].max().round(2)\n",
    "max_daily_windspeed.index = pd.to_datetime(max_daily_windspeed.index)\n",
    "monthly_mean_max_windspeed = max_daily_windspeed.groupby(max_daily_windspeed.index.to_period('M')).mean().round(2)\n",
    "plot1 = df[['date', 'temp', 'wdsp']].copy()\n",
    "plot1['daily_mean_temp'] = plot1['date'].dt.date.map(daily_mean_temp)\n",
    "plot1['monthly_mean_temp'] = plot1['date'].dt.to_period('M').map(monthly_mean_temp)\n",
    "plot1['daily_mean_windspeed'] = plot1['date'].dt.date.map(daily_mean_windspeed)\n",
    "plot1['max_daily_windspeed'] = plot1['date'].dt.date.map(max_daily_windspeed)\n",
    "plot1['monthly_mean_max_windspeed'] = plot1['date'].dt.to_period('M').map(monthly_mean_max_windspeed)\n",
    "plot1 = plot1[['date', 'temp', 'daily_mean_temp', 'monthly_mean_temp', 'wdsp', 'daily_mean_windspeed', 'max_daily_windspeed', 'monthly_mean_max_windspeed']]\n",
    "plot1.head(300)"
   ]
  },
  {
   "cell_type": "markdown",
   "metadata": {},
   "source": [
    "***\n",
    "\n",
    "## The End"
   ]
  }
 ],
 "metadata": {
  "kernelspec": {
   "display_name": "base",
   "language": "python",
   "name": "python3"
  },
  "language_info": {
   "codemirror_mode": {
    "name": "ipython",
    "version": 3
   },
   "file_extension": ".py",
   "mimetype": "text/x-python",
   "name": "python",
   "nbconvert_exporter": "python",
   "pygments_lexer": "ipython3",
   "version": "3.12.7"
  }
 },
 "nbformat": 4,
 "nbformat_minor": 2
}
